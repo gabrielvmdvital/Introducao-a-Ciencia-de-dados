{
 "cells": [
  {
   "cell_type": "code",
   "execution_count": null,
   "id": "8bb59af5",
   "metadata": {},
   "outputs": [],
   "source": [
    "#Instalação dos pacotes necessários e utilitários\n",
    "\n",
    "!pip install numpy pandas scipy matplotlib statsmodels seaborn sympy nose"
   ]
  },
  {
   "cell_type": "code",
   "execution_count": 1,
   "id": "conceptual-royal",
   "metadata": {},
   "outputs": [],
   "source": [
    "#Importação dos pacotes e utilitários\n",
    "\n",
    "import numpy as np\n",
    "import pandas as pd\n",
    "import seaborn as sns\n",
    "sns.regplot\n",
    "import requests\n",
    "import io\n",
    "import matplotlib.pyplot as plt\n",
    "import statsmodels.api as sm\n",
    "from   sklearn.linear_model import LinearRegression\n",
    "import os\n",
    "from sklearn.model_selection import train_test_split#\n",
    "import seaborn as seabornInstance\n",
    "%matplotlib inline"
   ]
  },
  {
   "cell_type": "code",
   "execution_count": 2,
   "id": "e97a815b",
   "metadata": {},
   "outputs": [],
   "source": [
    "ds = pd.read_csv(\"cpuperformace.csv\")"
   ]
  },
  {
   "cell_type": "code",
   "execution_count": 3,
   "id": "4102f70f",
   "metadata": {},
   "outputs": [
    {
     "data": {
      "text/html": [
       "<div>\n",
       "<style scoped>\n",
       "    .dataframe tbody tr th:only-of-type {\n",
       "        vertical-align: middle;\n",
       "    }\n",
       "\n",
       "    .dataframe tbody tr th {\n",
       "        vertical-align: top;\n",
       "    }\n",
       "\n",
       "    .dataframe thead th {\n",
       "        text-align: right;\n",
       "    }\n",
       "</style>\n",
       "<table border=\"1\" class=\"dataframe\">\n",
       "  <thead>\n",
       "    <tr style=\"text-align: right;\">\n",
       "      <th></th>\n",
       "      <th>vendor_name</th>\n",
       "      <th>Model_Name</th>\n",
       "      <th>MYCT</th>\n",
       "      <th>MMIN</th>\n",
       "      <th>MMAX</th>\n",
       "      <th>CACH</th>\n",
       "      <th>CHMIN</th>\n",
       "      <th>CHMAX</th>\n",
       "      <th>PRP</th>\n",
       "      <th>ERP</th>\n",
       "    </tr>\n",
       "  </thead>\n",
       "  <tbody>\n",
       "    <tr>\n",
       "      <th>0</th>\n",
       "      <td>adviser</td>\n",
       "      <td>32/60</td>\n",
       "      <td>125</td>\n",
       "      <td>256</td>\n",
       "      <td>6000</td>\n",
       "      <td>256</td>\n",
       "      <td>16</td>\n",
       "      <td>128</td>\n",
       "      <td>198</td>\n",
       "      <td>199</td>\n",
       "    </tr>\n",
       "    <tr>\n",
       "      <th>1</th>\n",
       "      <td>amdahl</td>\n",
       "      <td>470v/7</td>\n",
       "      <td>29</td>\n",
       "      <td>8000</td>\n",
       "      <td>32000</td>\n",
       "      <td>32</td>\n",
       "      <td>8</td>\n",
       "      <td>32</td>\n",
       "      <td>269</td>\n",
       "      <td>253</td>\n",
       "    </tr>\n",
       "    <tr>\n",
       "      <th>2</th>\n",
       "      <td>amdahl</td>\n",
       "      <td>470v/7a</td>\n",
       "      <td>29</td>\n",
       "      <td>8000</td>\n",
       "      <td>32000</td>\n",
       "      <td>32</td>\n",
       "      <td>8</td>\n",
       "      <td>32</td>\n",
       "      <td>220</td>\n",
       "      <td>253</td>\n",
       "    </tr>\n",
       "    <tr>\n",
       "      <th>3</th>\n",
       "      <td>amdahl</td>\n",
       "      <td>470v/7b</td>\n",
       "      <td>29</td>\n",
       "      <td>8000</td>\n",
       "      <td>32000</td>\n",
       "      <td>32</td>\n",
       "      <td>8</td>\n",
       "      <td>32</td>\n",
       "      <td>172</td>\n",
       "      <td>253</td>\n",
       "    </tr>\n",
       "    <tr>\n",
       "      <th>4</th>\n",
       "      <td>amdahl</td>\n",
       "      <td>470v/7c</td>\n",
       "      <td>29</td>\n",
       "      <td>8000</td>\n",
       "      <td>16000</td>\n",
       "      <td>32</td>\n",
       "      <td>8</td>\n",
       "      <td>16</td>\n",
       "      <td>132</td>\n",
       "      <td>132</td>\n",
       "    </tr>\n",
       "  </tbody>\n",
       "</table>\n",
       "</div>"
      ],
      "text/plain": [
       "  vendor_name Model_Name  MYCT  MMIN   MMAX  CACH  CHMIN  CHMAX  PRP  ERP\n",
       "0     adviser      32/60   125   256   6000   256     16    128  198  199\n",
       "1      amdahl     470v/7    29  8000  32000    32      8     32  269  253\n",
       "2      amdahl    470v/7a    29  8000  32000    32      8     32  220  253\n",
       "3      amdahl    470v/7b    29  8000  32000    32      8     32  172  253\n",
       "4      amdahl    470v/7c    29  8000  16000    32      8     16  132  132"
      ]
     },
     "execution_count": 3,
     "metadata": {},
     "output_type": "execute_result"
    }
   ],
   "source": [
    "ds.head()"
   ]
  },
  {
   "cell_type": "code",
   "execution_count": 4,
   "id": "bbce38dc",
   "metadata": {},
   "outputs": [
    {
     "data": {
      "text/plain": [
       "vendor_name    object\n",
       "Model_Name     object\n",
       "MYCT            int64\n",
       "MMIN            int64\n",
       "MMAX            int64\n",
       "CACH            int64\n",
       "CHMIN           int64\n",
       "CHMAX           int64\n",
       "PRP             int64\n",
       "ERP             int64\n",
       "dtype: object"
      ]
     },
     "execution_count": 4,
     "metadata": {},
     "output_type": "execute_result"
    }
   ],
   "source": [
    "ds.dtypes"
   ]
  },
  {
   "cell_type": "markdown",
   "id": "2c58d343",
   "metadata": {},
   "source": [
    "Attribute Information:\n",
    "\n",
    "1. vendor name: 30\n",
    "(adviser, amdahl,apollo, basf, bti, burroughs, c.r.d, cambex, cdc, dec,\n",
    "dg, formation, four-phase, gould, honeywell, hp, ibm, ipl, magnuson,\n",
    "microdata, nas, ncr, nixdorf, perkin-elmer, prime, siemens, sperry,\n",
    "sratus, wang)\n",
    "2. Model Name: many unique symbols\n",
    "3. MYCT: machine cycle time in nanoseconds (integer)\n",
    "4. MMIN: minimum main memory in kilobytes (integer)\n",
    "5. MMAX: maximum main memory in kilobytes (integer)\n",
    "6. CACH: cache memory in kilobytes (integer)\n",
    "7. CHMIN: minimum channels in units (integer)\n",
    "8. CHMAX: maximum channels in units (integer)\n",
    "9. PRP: published relative performance (integer)\n",
    "10. ERP: estimated relative performance from the original article (integer), (output)\n",
    "\n"
   ]
  },
  {
   "cell_type": "code",
   "execution_count": 26,
   "id": "3fe49ab9",
   "metadata": {},
   "outputs": [
    {
     "data": {
      "image/png": "[encoded data removed]",
      "text/plain": [
       "<Figure size 1152x576 with 1 Axes>"
      ]
     },
     "metadata": {
      "needs_background": "light"
     },
     "output_type": "display_data"
    }
   ],
   "source": [
    "# Visualização da nuvem de pontos\n",
    "plt.figure(figsize = (16,8))\n",
    "plt.scatter(\n",
    "    ds['CHMAX'], \n",
    "    ds['ERP'], c='red')\n",
    "plt.xlabel(\"Maximum channels in units\")\n",
    "plt.ylabel(\"Estimated relative performance\")\n",
    "plt.show()"
   ]
  },
  {
   "cell_type": "code",
   "execution_count": 27,
   "id": "rolled-archives",
   "metadata": {},
   "outputs": [
    {
     "name": "stdout",
     "output_type": "stream",
     "text": [
      "β0 = 34.936 e β1 = 3.525\n",
      "\n",
      "O modelo é: ERP = 34.936 + 3.525X\n",
      "\n"
     ]
    }
   ],
   "source": [
    "# Processamento dos dados e regressão linear simples\n",
    "\n",
    "X = ds['CHMAX'].values.reshape(-1,1)\n",
    "y = ds['ERP'].values.reshape(-1,1)\n",
    "\n",
    "reg = LinearRegression()\n",
    "reg.fit(X, y)\n",
    "\n",
    "#Coeficientes requisitados \n",
    "print(\"β0 = {:.5} e β1 = {:.5}\".format(reg.intercept_[0], reg.coef_[0][0]))\n",
    "print()\n",
    "\n",
    "#Equação do modelo\n",
    "print(\"O modelo é: ERP = {:.5} + {:.5}X\".format(reg.intercept_[0], reg.coef_[0][0]))\n",
    "print()\n",
    "\n"
   ]
  },
  {
   "cell_type": "code",
   "execution_count": 28,
   "id": "qualified-spell",
   "metadata": {},
   "outputs": [
    {
     "data": {
      "image/png": "[encoded data removed]",
      "text/plain": [
       "<Figure size 1152x576 with 1 Axes>"
      ]
     },
     "metadata": {
      "needs_background": "light"
     },
     "output_type": "display_data"
    }
   ],
   "source": [
    "#previsão do modelo\n",
    "\n",
    "f_previsaoes = reg.predict(X)\n",
    "\n",
    "plt.figure(figsize = (16,8))\n",
    "plt.scatter( ds['CHMAX'], ds['ERP'], c='red')\n",
    "plt.plot(ds['CHMAX'],f_previsaoes, c='blue',linewidth=3,linestyle=':')\n",
    "plt.xlabel(\"Maximum channels in units\")\n",
    "plt.ylabel(\"Estimated relative performance\")\n",
    "plt.show()"
   ]
  },
  {
   "cell_type": "code",
   "execution_count": 29,
   "id": "protective-passage",
   "metadata": {},
   "outputs": [
    {
     "name": "stdout",
     "output_type": "stream",
     "text": [
      "                            OLS Regression Results                            \n",
      "==============================================================================\n",
      "Dep. Variable:                    ERP   R-squared:                       0.351\n",
      "Model:                            OLS   Adj. R-squared:                  0.348\n",
      "Method:                 Least Squares   F-statistic:                     111.8\n",
      "Date:                Thu, 10 Jun 2021   Prob (F-statistic):           3.62e-21\n",
      "Time:                        13:17:21   Log-Likelihood:                -1304.7\n",
      "No. Observations:                 209   AIC:                             2613.\n",
      "Df Residuals:                     207   BIC:                             2620.\n",
      "Df Model:                           1                                         \n",
      "Covariance Type:            nonrobust                                         \n",
      "==============================================================================\n",
      "                 coef    std err          t      P>|t|      [0.025      0.975]\n",
      "------------------------------------------------------------------------------\n",
      "const         34.9358     10.577      3.303      0.001      14.084      55.788\n",
      "CHMAX          3.5250      0.333     10.573      0.000       2.868       4.182\n",
      "==============================================================================\n",
      "Omnibus:                      177.312   Durbin-Watson:                   1.009\n",
      "Prob(Omnibus):                  0.000   Jarque-Bera (JB):             4269.052\n",
      "Skew:                           3.020   Prob(JB):                         0.00\n",
      "Kurtosis:                      24.301   Cond. No.                         38.8\n",
      "==============================================================================\n",
      "\n",
      "Notes:\n",
      "[1] Standard Errors assume that the covariance matrix of the errors is correctly specified.\n"
     ]
    }
   ],
   "source": [
    "# Sumario contendo as informações requisitadas.\n",
    "\n",
    "X = ds['CHMAX']\n",
    "y = ds['ERP']\n",
    "X2 = sm.add_constant(X)\n",
    "est = sm.OLS(y, X2)\n",
    "est2 = est.fit()\n",
    "print(est2.summary())"
   ]
  }
 ],
 "metadata": {
  "kernelspec": {
   "display_name": "Python 3",
   "language": "python",
   "name": "python3"
  },
  "language_info": {
   "codemirror_mode": {
    "name": "ipython",
    "version": 3
   },
   "file_extension": ".py",
   "mimetype": "text/x-python",
   "name": "python",
   "nbconvert_exporter": "python",
   "pygments_lexer": "ipython3",
   "version": "3.9.9"
  }
 },
 "nbformat": 4,
 "nbformat_minor": 5
}
