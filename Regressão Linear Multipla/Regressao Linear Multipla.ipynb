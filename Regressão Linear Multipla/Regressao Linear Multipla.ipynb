{
 "cells": [
  {
   "cell_type": "code",
   "execution_count": null,
   "id": "cbf73bcc",
   "metadata": {},
   "outputs": [],
   "source": [
    "#Instalação dos pacotes necessários e utilitários\n",
    "\n",
    "!pip install numpy pandas scipy matplotlib statsmodels seaborn sympy nose"
   ]
  },
  {
   "cell_type": "code",
   "execution_count": 1,
   "id": "2b181bb8",
   "metadata": {},
   "outputs": [],
   "source": [
    "#Importação dos pacotes e utilitários\n",
    "\n",
    "import numpy as np\n",
    "import pandas as pd\n",
    "import seaborn as sns\n",
    "sns.regplot\n",
    "import requests\n",
    "import io\n",
    "import matplotlib.pyplot as plt\n",
    "import statsmodels.api as sm\n",
    "from   sklearn.linear_model import LinearRegression\n",
    "from sklearn.metrics import mean_squared_error\n",
    "import os\n",
    "from sklearn.model_selection import train_test_split#\n",
    "import seaborn as seabornInstance\n",
    "%matplotlib inline"
   ]
  },
  {
   "cell_type": "code",
   "execution_count": 3,
   "id": "fa9c364b",
   "metadata": {},
   "outputs": [],
   "source": [
    "ds = pd.read_csv(\"cpuperformace.csv\")"
   ]
  },
  {
   "cell_type": "code",
   "execution_count": 4,
   "id": "185ba0f7",
   "metadata": {},
   "outputs": [
    {
     "data": {
      "text/html": [
       "<div>\n",
       "<style scoped>\n",
       "    .dataframe tbody tr th:only-of-type {\n",
       "        vertical-align: middle;\n",
       "    }\n",
       "\n",
       "    .dataframe tbody tr th {\n",
       "        vertical-align: top;\n",
       "    }\n",
       "\n",
       "    .dataframe thead th {\n",
       "        text-align: right;\n",
       "    }\n",
       "</style>\n",
       "<table border=\"1\" class=\"dataframe\">\n",
       "  <thead>\n",
       "    <tr style=\"text-align: right;\">\n",
       "      <th></th>\n",
       "      <th>vendor_name</th>\n",
       "      <th>Model_Name</th>\n",
       "      <th>MYCT</th>\n",
       "      <th>MMIN</th>\n",
       "      <th>MMAX</th>\n",
       "      <th>CACH</th>\n",
       "      <th>CHMIN</th>\n",
       "      <th>CHMAX</th>\n",
       "      <th>PRP</th>\n",
       "      <th>ERP</th>\n",
       "    </tr>\n",
       "  </thead>\n",
       "  <tbody>\n",
       "    <tr>\n",
       "      <th>0</th>\n",
       "      <td>adviser</td>\n",
       "      <td>32/60</td>\n",
       "      <td>125</td>\n",
       "      <td>256</td>\n",
       "      <td>6000</td>\n",
       "      <td>256</td>\n",
       "      <td>16</td>\n",
       "      <td>128</td>\n",
       "      <td>198</td>\n",
       "      <td>199</td>\n",
       "    </tr>\n",
       "    <tr>\n",
       "      <th>1</th>\n",
       "      <td>amdahl</td>\n",
       "      <td>470v/7</td>\n",
       "      <td>29</td>\n",
       "      <td>8000</td>\n",
       "      <td>32000</td>\n",
       "      <td>32</td>\n",
       "      <td>8</td>\n",
       "      <td>32</td>\n",
       "      <td>269</td>\n",
       "      <td>253</td>\n",
       "    </tr>\n",
       "    <tr>\n",
       "      <th>2</th>\n",
       "      <td>amdahl</td>\n",
       "      <td>470v/7a</td>\n",
       "      <td>29</td>\n",
       "      <td>8000</td>\n",
       "      <td>32000</td>\n",
       "      <td>32</td>\n",
       "      <td>8</td>\n",
       "      <td>32</td>\n",
       "      <td>220</td>\n",
       "      <td>253</td>\n",
       "    </tr>\n",
       "    <tr>\n",
       "      <th>3</th>\n",
       "      <td>amdahl</td>\n",
       "      <td>470v/7b</td>\n",
       "      <td>29</td>\n",
       "      <td>8000</td>\n",
       "      <td>32000</td>\n",
       "      <td>32</td>\n",
       "      <td>8</td>\n",
       "      <td>32</td>\n",
       "      <td>172</td>\n",
       "      <td>253</td>\n",
       "    </tr>\n",
       "    <tr>\n",
       "      <th>4</th>\n",
       "      <td>amdahl</td>\n",
       "      <td>470v/7c</td>\n",
       "      <td>29</td>\n",
       "      <td>8000</td>\n",
       "      <td>16000</td>\n",
       "      <td>32</td>\n",
       "      <td>8</td>\n",
       "      <td>16</td>\n",
       "      <td>132</td>\n",
       "      <td>132</td>\n",
       "    </tr>\n",
       "  </tbody>\n",
       "</table>\n",
       "</div>"
      ],
      "text/plain": [
       "  vendor_name Model_Name  MYCT  MMIN   MMAX  CACH  CHMIN  CHMAX  PRP  ERP\n",
       "0     adviser      32/60   125   256   6000   256     16    128  198  199\n",
       "1      amdahl     470v/7    29  8000  32000    32      8     32  269  253\n",
       "2      amdahl    470v/7a    29  8000  32000    32      8     32  220  253\n",
       "3      amdahl    470v/7b    29  8000  32000    32      8     32  172  253\n",
       "4      amdahl    470v/7c    29  8000  16000    32      8     16  132  132"
      ]
     },
     "execution_count": 4,
     "metadata": {},
     "output_type": "execute_result"
    }
   ],
   "source": [
    "ds.head()"
   ]
  },
  {
   "cell_type": "code",
   "execution_count": 5,
   "id": "665059cb",
   "metadata": {},
   "outputs": [
    {
     "data": {
      "text/plain": [
       "vendor_name    object\n",
       "Model_Name     object\n",
       "MYCT            int64\n",
       "MMIN            int64\n",
       "MMAX            int64\n",
       "CACH            int64\n",
       "CHMIN           int64\n",
       "CHMAX           int64\n",
       "PRP             int64\n",
       "ERP             int64\n",
       "dtype: object"
      ]
     },
     "execution_count": 5,
     "metadata": {},
     "output_type": "execute_result"
    }
   ],
   "source": [
    "ds.dtypes"
   ]
  },
  {
   "cell_type": "markdown",
   "id": "34e0bec9",
   "metadata": {},
   "source": [
    "Attribute Information:\n",
    "\n",
    "1. vendor name: 30\n",
    "(adviser, amdahl,apollo, basf, bti, burroughs, c.r.d, cambex, cdc, dec,\n",
    "dg, formation, four-phase, gould, honeywell, hp, ibm, ipl, magnuson,\n",
    "microdata, nas, ncr, nixdorf, perkin-elmer, prime, siemens, sperry,\n",
    "sratus, wang)\n",
    "2. Model Name: many unique symbols\n",
    "3. MYCT: machine cycle time in nanoseconds (integer)\n",
    "4. MMIN: minimum main memory in kilobytes (integer)\n",
    "5. MMAX: maximum main memory in kilobytes (integer)\n",
    "6. CACH: cache memory in kilobytes (integer)\n",
    "7. CHMIN: minimum channels in units (integer)\n",
    "8. CHMAX: maximum channels in units (integer)\n",
    "9. PRP: published relative performance (integer)\n",
    "10. ERP: estimated relative performance from the original article (integer), (output)\n",
    "\n",
    "\n"
   ]
  },
  {
   "cell_type": "code",
   "execution_count": 4,
   "id": "218ebaac",
   "metadata": {},
   "outputs": [],
   "source": [
    "# Definição das váriaveis independentes e dependente\n",
    "# nota: As váriaveis vendor_name e Model_name não entram na avaliação pois a performace da cpu independe do fornecedor\n",
    "# e o modelo é uma consequência da arquitetura da cpu.\n",
    "\n",
    "X = ds[['MYCT','MMIN','MMAX','CACH','CHMIN','CHMAX','PRP']].values\n",
    "y = ds['ERP'].values"
   ]
  },
  {
   "cell_type": "code",
   "execution_count": 5,
   "id": "0b1f3906",
   "metadata": {},
   "outputs": [
    {
     "name": "stdout",
     "output_type": "stream",
     "text": [
      "(167, 7) (42, 7) (167,) (42,)\n"
     ]
    },
    {
     "data": {
      "text/plain": [
       "LinearRegression()"
      ]
     },
     "execution_count": 5,
     "metadata": {},
     "output_type": "execute_result"
    }
   ],
   "source": [
    "#Tratamento dos dados, separação do dataset em conjunto de treinamento e conjunto de testes\n",
    "\n",
    "X_train,X_test,y_train,y_test=train_test_split(X,y,test_size=0.2, random_state=0)\n",
    "\n",
    "#Print das dimensões dos conjuntos\n",
    "print(X_train.shape,X_test.shape,y_train.shape,y_test.shape)\n",
    "\n",
    "# regressão linear multipla, treinamento do modelo\n",
    "linear_reg=LinearRegression()\n",
    "linear_reg.fit(X_train,y_train)"
   ]
  },
  {
   "cell_type": "code",
   "execution_count": 6,
   "id": "4d6c8589",
   "metadata": {},
   "outputs": [
    {
     "name": "stdout",
     "output_type": "stream",
     "text": [
      "termo constante: β0 = -36.63447573998576\n",
      "coeficiente β_i = [ 0.04016509  0.0064829   0.00343059 -0.01605798  0.01953575  0.42211034\n",
      "  0.58359151]\n"
     ]
    },
    {
     "data": {
      "text/html": [
       "<div>\n",
       "<style scoped>\n",
       "    .dataframe tbody tr th:only-of-type {\n",
       "        vertical-align: middle;\n",
       "    }\n",
       "\n",
       "    .dataframe tbody tr th {\n",
       "        vertical-align: top;\n",
       "    }\n",
       "\n",
       "    .dataframe thead th {\n",
       "        text-align: right;\n",
       "    }\n",
       "</style>\n",
       "<table border=\"1\" class=\"dataframe\">\n",
       "  <thead>\n",
       "    <tr style=\"text-align: right;\">\n",
       "      <th></th>\n",
       "      <th>Atual</th>\n",
       "      <th>Predicão</th>\n",
       "    </tr>\n",
       "  </thead>\n",
       "  <tbody>\n",
       "    <tr>\n",
       "      <th>0</th>\n",
       "      <td>70</td>\n",
       "      <td>62.229033</td>\n",
       "    </tr>\n",
       "    <tr>\n",
       "      <th>1</th>\n",
       "      <td>23</td>\n",
       "      <td>4.459657</td>\n",
       "    </tr>\n",
       "    <tr>\n",
       "      <th>2</th>\n",
       "      <td>74</td>\n",
       "      <td>64.961183</td>\n",
       "    </tr>\n",
       "    <tr>\n",
       "      <th>3</th>\n",
       "      <td>290</td>\n",
       "      <td>324.270163</td>\n",
       "    </tr>\n",
       "    <tr>\n",
       "      <th>4</th>\n",
       "      <td>67</td>\n",
       "      <td>80.410780</td>\n",
       "    </tr>\n",
       "  </tbody>\n",
       "</table>\n",
       "</div>"
      ],
      "text/plain": [
       "   Atual    Predicão\n",
       "0     70   62.229033\n",
       "1     23    4.459657\n",
       "2     74   64.961183\n",
       "3    290  324.270163\n",
       "4     67   80.410780"
      ]
     },
     "execution_count": 6,
     "metadata": {},
     "output_type": "execute_result"
    }
   ],
   "source": [
    "# Print dos coeficientes do modelo.\n",
    "\n",
    "print('termo constante: β0 =', linear_reg.intercept_)\n",
    "print('coeficiente β_i =',linear_reg.coef_)\n",
    "\n",
    "y_pred=linear_reg.predict(X_test)\n",
    "\n",
    "ds1 =pd.DataFrame({'Atual':y_test.flatten(), 'Predicão':y_pred.flatten()})\n",
    "\n",
    "ds1.head()"
   ]
  },
  {
   "cell_type": "code",
   "execution_count": 7,
   "id": "af56f7b2",
   "metadata": {},
   "outputs": [
    {
     "name": "stdout",
     "output_type": "stream",
     "text": [
      "SSE =  1308.394069472016\n",
      "SSR =  17061.49269458482\n",
      "SST =  17061.49269458482\n",
      " R^2 =  0.9233130363858909\n"
     ]
    }
   ],
   "source": [
    "# SSE  = Sum(y_true - y_pred)**2\n",
    "SSE = mean_squared_error(y_test, y_pred)\n",
    "print('SSE = ', SSE)\n",
    "\n",
    "# método auxiliar para calcular o SSR\n",
    "#SSR  = Sum(y_pred - y_med)**2\n",
    "\n",
    "aux_med = np.zeros(len(y_test)) +y_test.mean()\n",
    "\n",
    "\n",
    "SSR = mean_squared_error(y_pred, aux_med)\n",
    "\n",
    "#SST = SSR + SSE \n",
    "\n",
    "SST = SSR + SSE\n",
    "\n",
    "print('SSR = ',SST)\n",
    "print('SST = ',SST)\n",
    "\n",
    "R2 = SSR/SST\n",
    "\n",
    "print(' R^2 = ',R2)"
   ]
  },
  {
   "cell_type": "code",
   "execution_count": 8,
   "id": "b941407b",
   "metadata": {},
   "outputs": [
    {
     "name": "stdout",
     "output_type": "stream",
     "text": [
      "                            OLS Regression Results                            \n",
      "==============================================================================\n",
      "Dep. Variable:                      y   R-squared:                       0.959\n",
      "Model:                            OLS   Adj. R-squared:                  0.958\n",
      "Method:                 Least Squares   F-statistic:                     679.5\n",
      "Date:                Wed, 23 Jun 2021   Prob (F-statistic):          3.60e-136\n",
      "Time:                        05:30:13   Log-Likelihood:                -1014.8\n",
      "No. Observations:                 209   AIC:                             2046.\n",
      "Df Residuals:                     201   BIC:                             2072.\n",
      "Df Model:                           7                                         \n",
      "Covariance Type:            nonrobust                                         \n",
      "==============================================================================\n",
      "                 coef    std err          t      P>|t|      [0.025      0.975]\n",
      "------------------------------------------------------------------------------\n",
      "const        -34.2296      4.732     -7.234      0.000     -43.560     -24.899\n",
      "x1             0.0378      0.009      4.004      0.000       0.019       0.056\n",
      "x2             0.0055      0.001      4.894      0.000       0.003       0.008\n",
      "x3             0.0034      0.000      8.493      0.000       0.003       0.004\n",
      "x4             0.1244      0.078      1.605      0.110      -0.028       0.277\n",
      "x5            -0.0163      0.452     -0.036      0.971      -0.908       0.875\n",
      "x6             0.3458      0.129      2.687      0.008       0.092       0.599\n",
      "x7             0.5770      0.037     15.519      0.000       0.504       0.650\n",
      "==============================================================================\n",
      "Omnibus:                       48.160   Durbin-Watson:                   1.358\n",
      "Prob(Omnibus):                  0.000   Jarque-Bera (JB):              482.083\n",
      "Skew:                           0.470   Prob(JB):                    2.07e-105\n",
      "Kurtosis:                      10.381   Cond. No.                     3.70e+04\n",
      "==============================================================================\n",
      "\n",
      "Notes:\n",
      "[1] Standard Errors assume that the covariance matrix of the errors is correctly specified.\n",
      "[2] The condition number is large, 3.7e+04. This might indicate that there are\n",
      "strong multicollinearity or other numerical problems.\n"
     ]
    }
   ],
   "source": [
    "# Print do sumário com as informações dos valores obtidos pela regressão linear multipla\n",
    "\n",
    "X_2 = sm.add_constant(X)\n",
    "est = sm.OLS(y, X_2)\n",
    "est2 = est.fit()\n",
    "print(est2.summary())"
   ]
  },
  {
   "cell_type": "code",
   "execution_count": 9,
   "id": "87b0cc38",
   "metadata": {},
   "outputs": [],
   "source": [
    "# removendo as váriaveis x4, x5 e x6 para realizar uma nova regressão linear multipla e verificar se de fato\n",
    "# o valor de R-square é modificado.\n",
    "\n",
    "\n",
    "X2_normal = ds[['MYCT','MMIN','MMAX','PRP']].values\n",
    "y2_normal = ds['ERP'].values"
   ]
  },
  {
   "cell_type": "code",
   "execution_count": 10,
   "id": "76e98cd7",
   "metadata": {},
   "outputs": [
    {
     "name": "stdout",
     "output_type": "stream",
     "text": [
      "(167, 4) (42, 4) (167,) (42,)\n"
     ]
    },
    {
     "data": {
      "text/plain": [
       "LinearRegression()"
      ]
     },
     "execution_count": 10,
     "metadata": {},
     "output_type": "execute_result"
    }
   ],
   "source": [
    "#Tratamento dos dados, separação do novo dataset em conjunto de treinamento e conjunto de testes\n",
    "\n",
    "X2_normal_train,X2_normal_test,y2_normal_train,y2_normal_test=train_test_split(X2_normal,y2_normal,test_size=0.2, random_state=0)\n",
    "\n",
    "#Print das dimensões dos conjuntos\n",
    "print(X2_normal_train.shape,X2_normal_test.shape,y2_normal_train.shape,y2_normal_test.shape)\n",
    "\n",
    "# regressão linear multipla, treinamento do modelo\n",
    "linear_reg3=LinearRegression()\n",
    "linear_reg3.fit(X2_normal_train,y2_normal_train)"
   ]
  },
  {
   "cell_type": "code",
   "execution_count": 11,
   "id": "5649cc12",
   "metadata": {},
   "outputs": [
    {
     "name": "stdout",
     "output_type": "stream",
     "text": [
      "termo constante: β0 = -31.14528153576407\n",
      "coeficiente β_i = [0.03497991 0.00460656 0.00357702 0.64739542]\n"
     ]
    },
    {
     "data": {
      "text/html": [
       "<div>\n",
       "<style scoped>\n",
       "    .dataframe tbody tr th:only-of-type {\n",
       "        vertical-align: middle;\n",
       "    }\n",
       "\n",
       "    .dataframe tbody tr th {\n",
       "        vertical-align: top;\n",
       "    }\n",
       "\n",
       "    .dataframe thead th {\n",
       "        text-align: right;\n",
       "    }\n",
       "</style>\n",
       "<table border=\"1\" class=\"dataframe\">\n",
       "  <thead>\n",
       "    <tr style=\"text-align: right;\">\n",
       "      <th></th>\n",
       "      <th>Atual</th>\n",
       "      <th>Predicão</th>\n",
       "    </tr>\n",
       "  </thead>\n",
       "  <tbody>\n",
       "    <tr>\n",
       "      <th>0</th>\n",
       "      <td>70</td>\n",
       "      <td>68.343184</td>\n",
       "    </tr>\n",
       "    <tr>\n",
       "      <th>1</th>\n",
       "      <td>23</td>\n",
       "      <td>6.094042</td>\n",
       "    </tr>\n",
       "    <tr>\n",
       "      <th>2</th>\n",
       "      <td>74</td>\n",
       "      <td>60.945998</td>\n",
       "    </tr>\n",
       "    <tr>\n",
       "      <th>3</th>\n",
       "      <td>290</td>\n",
       "      <td>326.953107</td>\n",
       "    </tr>\n",
       "    <tr>\n",
       "      <th>4</th>\n",
       "      <td>67</td>\n",
       "      <td>81.208468</td>\n",
       "    </tr>\n",
       "  </tbody>\n",
       "</table>\n",
       "</div>"
      ],
      "text/plain": [
       "   Atual    Predicão\n",
       "0     70   68.343184\n",
       "1     23    6.094042\n",
       "2     74   60.945998\n",
       "3    290  326.953107\n",
       "4     67   81.208468"
      ]
     },
     "execution_count": 11,
     "metadata": {},
     "output_type": "execute_result"
    }
   ],
   "source": [
    "# Print dos coeficientes do modelo.\n",
    "\n",
    "print('termo constante: β0 =', linear_reg3.intercept_)\n",
    "print('coeficiente β_i =',linear_reg3.coef_)\n",
    "\n",
    "y2_normal_pred=linear_reg3.predict(X2_normal_test)\n",
    "\n",
    "ds3 =pd.DataFrame({'Atual':y2_normal_test.flatten(), 'Predicão':y2_normal_pred.flatten()})\n",
    "\n",
    "ds3.head()"
   ]
  },
  {
   "cell_type": "code",
   "execution_count": 12,
   "id": "e590a8ed",
   "metadata": {},
   "outputs": [
    {
     "name": "stdout",
     "output_type": "stream",
     "text": [
      "SSE =  1308.394069472016\n",
      "SSR =  17085.93624775708\n",
      "SST =  17085.93624775708\n",
      "R2_ajustado =  0.9258956615940336\n",
      "\n"
     ]
    }
   ],
   "source": [
    "# SSE  = Sum(y_true - y_pred)**2\n",
    "#SSE ajustado\n",
    "SSE_ajustado = mean_squared_error(y2_normal_test, y2_normal_pred)\n",
    "print('SSE = ', SSE)\n",
    "\n",
    "# método auxiliar para calcular o SSR\n",
    "#SSR  = Sum(y_pred - y_med)**2\n",
    "\n",
    "aux2_med = np.zeros(len(y2_normal_test)) +y2_normal_test.mean()\n",
    "\n",
    "SSR_ajustado = mean_squared_error(y2_normal_pred, aux2_med)\n",
    "\n",
    "#SST ajustado\n",
    "#SST = SSR + SSE \n",
    "\n",
    "SST_ajustado = SSR_ajustado + SSE_ajustado\n",
    "\n",
    "print('SSR = ',SST_ajustado)\n",
    "print('SST = ',SST_ajustado)\n",
    "\n",
    "#R2 ajustado\n",
    "\n",
    "R2_ajustado = SSR_ajustado/SST_ajustado\n",
    "\n",
    "print('R2_ajustado = ',R2_ajustado)\n",
    "\n",
    "print()"
   ]
  },
  {
   "cell_type": "code",
   "execution_count": 13,
   "id": "2ca3bc00",
   "metadata": {},
   "outputs": [
    {
     "name": "stdout",
     "output_type": "stream",
     "text": [
      "R2 é igual ao R2 ajustado? R =  False\n"
     ]
    }
   ],
   "source": [
    "print('R2 é igual ao R2 ajustado? R = ',R2_ajustado == R2)"
   ]
  },
  {
   "cell_type": "code",
   "execution_count": 17,
   "id": "7ddec7db",
   "metadata": {},
   "outputs": [
    {
     "name": "stdout",
     "output_type": "stream",
     "text": [
      "                            OLS Regression Results                            \n",
      "==============================================================================\n",
      "Dep. Variable:                      y   R-squared:                       0.957\n",
      "Model:                            OLS   Adj. R-squared:                  0.956\n",
      "Method:                 Least Squares   F-statistic:                     1133.\n",
      "Date:                Wed, 16 Jun 2021   Prob (F-statistic):          4.63e-138\n",
      "Time:                        15:33:07   Log-Likelihood:                -1021.1\n",
      "No. Observations:                 209   AIC:                             2052.\n",
      "Df Residuals:                     204   BIC:                             2069.\n",
      "Df Model:                           4                                         \n",
      "Covariance Type:            nonrobust                                         \n",
      "==============================================================================\n",
      "                 coef    std err          t      P>|t|      [0.025      0.975]\n",
      "------------------------------------------------------------------------------\n",
      "const        -27.6858      4.440     -6.235      0.000     -36.440     -18.931\n",
      "x1             0.0308      0.009      3.276      0.001       0.012       0.049\n",
      "x2             0.0040      0.001      4.075      0.000       0.002       0.006\n",
      "x3             0.0034      0.000      8.515      0.000       0.003       0.004\n",
      "x4             0.6542      0.031     21.301      0.000       0.594       0.715\n",
      "==============================================================================\n",
      "Omnibus:                       39.981   Durbin-Watson:                   1.386\n",
      "Prob(Omnibus):                  0.000   Jarque-Bera (JB):              361.840\n",
      "Skew:                           0.288   Prob(JB):                     2.68e-79\n",
      "Kurtosis:                       9.420   Cond. No.                     3.39e+04\n",
      "==============================================================================\n",
      "\n",
      "Notes:\n",
      "[1] Standard Errors assume that the covariance matrix of the errors is correctly specified.\n",
      "[2] The condition number is large, 3.39e+04. This might indicate that there are\n",
      "strong multicollinearity or other numerical problems.\n"
     ]
    }
   ],
   "source": [
    "# Print do sumário com as informações dos valores obtidos pela regressão linear multipla\n",
    "\n",
    "X3 = sm.add_constant(X2_normal)\n",
    "est11 = sm.OLS(y2_normal, X3)\n",
    "est22 = est11.fit()\n",
    "print(est22.summary())"
   ]
  },
  {
   "cell_type": "markdown",
   "id": "c6879b99",
   "metadata": {},
   "source": [
    "Nota-se que os resultados com a regressão linear multipla é melhor que com a regressão linear em 1 variável, este fato\n",
    "se deve porque a nossa váriavel de dependente depende de várias outras variáveis, notamos que o R^2 está acima de 90% o que\n",
    "mostra que temos uma forte dependência da variavel ERP com as demais variáveis. Para esta ultima analise nota-se que ao \n",
    "removermos  as variáveis x4, x5 e x6 nosso R^2 diminui um pouco, porém o p-value das variáveis restantes estão abaixo de 0.5%\n",
    "o que indica que temos probabilidade maior que 95% de que as hipoteses estarem corretas paras as variáveis."
   ]
  }
 ],
 "metadata": {
  "kernelspec": {
   "display_name": "Python 3",
   "language": "python",
   "name": "python3"
  },
  "language_info": {
   "codemirror_mode": {
    "name": "ipython",
    "version": 3
   },
   "file_extension": ".py",
   "mimetype": "text/x-python",
   "name": "python",
   "nbconvert_exporter": "python",
   "pygments_lexer": "ipython3",
   "version": "3.9.9"
  }
 },
 "nbformat": 4,
 "nbformat_minor": 5
}
